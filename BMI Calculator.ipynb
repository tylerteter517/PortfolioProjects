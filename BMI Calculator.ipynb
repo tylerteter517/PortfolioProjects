{
 "cells": [
  {
   "cell_type": "markdown",
   "id": "ebff0a5a",
   "metadata": {},
   "source": [
    "# BMI Calculator\n"
   ]
  },
  {
   "cell_type": "code",
   "execution_count": 32,
   "id": "957d4ebb",
   "metadata": {},
   "outputs": [
    {
     "name": "stdout",
     "output_type": "stream",
     "text": [
      "What is your name? Tyler\n",
      "Enter your weight in pounds: 170\n",
      "Enter your height in inches: 75\n",
      "Tyler, you are a normal weight.\n"
     ]
    }
   ],
   "source": [
    "name = input(\"What is your name? \")\n",
    "weight = int(input(\"Enter your weight in pounds: \"))\n",
    "\n",
    "height = int(input(\"Enter your height in inches: \"))\n",
    "\n",
    "bmi = (weight * 703) /(height * height)\n",
    "#print(bmi)\n",
    "\n",
    "if bmi>0:\n",
    "    if bmi<=18.5:\n",
    "        print(name + \", you are underweight.\")\n",
    "    elif bmi<=24.9:\n",
    "        print(name + \", you are a normal weight.\")\n",
    "    elif bmi<=29.9:\n",
    "        print(name + \", you are overweight.\")\n",
    "    elif bmi<=34.9:\n",
    "        print(name + \", you are obese.\")\n",
    "    elif bmi<=39.9:\n",
    "        print(name +\", you are severly obese.\")\n",
    "    else:\n",
    "        print(name + \", you are mobidly obese.\")\n",
    "else:\n",
    "    print(name + \", please enter a valid input!\")"
   ]
  },
  {
   "cell_type": "markdown",
   "id": "d867420e",
   "metadata": {},
   "source": [
    "# Scale"
   ]
  },
  {
   "cell_type": "markdown",
   "id": "9f22b757",
   "metadata": {},
   "source": [
    "Under 18.5\tUnderweight\n",
    "18.5 - 24.9\tNormal Weight\n",
    "25 - 29.9\tOverweight\n",
    "30 - 34.9\tObese\n",
    "35 - 39.9\tSeverely Obese\n",
    "40 and over\tMorbidly Obese"
   ]
  }
 ],
 "metadata": {
  "kernelspec": {
   "display_name": "Python 3 (ipykernel)",
   "language": "python",
   "name": "python3"
  },
  "language_info": {
   "codemirror_mode": {
    "name": "ipython",
    "version": 3
   },
   "file_extension": ".py",
   "mimetype": "text/x-python",
   "name": "python",
   "nbconvert_exporter": "python",
   "pygments_lexer": "ipython3",
   "version": "3.9.7"
  }
 },
 "nbformat": 4,
 "nbformat_minor": 5
}
